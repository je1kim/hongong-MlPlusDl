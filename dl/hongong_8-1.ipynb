{
 "cells": [
  {
   "cell_type": "markdown",
   "id": "bf6623af",
   "metadata": {},
   "source": [
    "## 8-1 합성곱 신경망의 구성 요소\n",
    "\n",
    "목표: 합성곱 신경망을 구성하는 기본 개념과 동작 원리를 배우고 간단한 합성곤, 풍링 계산 방법 익히기"
   ]
  },
  {
   "cell_type": "markdown",
   "id": "e606426e",
   "metadata": {},
   "source": [
    "### 합성곱(Convilution)\n",
    "\n",
    ": 일반적으로 1개 이사의 합성곱 층을 쓴 인공 신경망을 합성곱 신경망이라 부름\n",
    "\n",
    "- 합성곱 신경망(Convolution Neual Network, CNN) 에서는 완전 연결 신경망과 달리 뉴런을 필터(filter) 혹은 커널(kernel)이라 부름(뉴런=필터=커널).\n",
    "- 케라스의 API와 이름을 맞추어 뉴런 개수를 이야기 할 때는 필터라 부르고, 입력에 곱해지는 가중치를 의마할 때는 커널이라 부름\n",
    "- 합성곱 계산을 통해 얻은 출력을 특성 맵(feature map)이라 부름"
   ]
  },
  {
   "cell_type": "markdown",
   "id": "95d298a6",
   "metadata": {},
   "source": [
    "> key words\n",
    "- 패딩(padding): 0의 값을 채워 이미지의 사이즈를 크게 만드는 효과(적절한 패딩은 이미지 주변의 있는 정보를 잃어버리지 않도록 도와줌)\n",
    "- 세임 패딩(same padding): 입력과 특성 맵의 크기를 동일하게 만들어 주기 위해 0으로 패딩하는 것(가장 많이 사용함)\n",
    "- 밸리드 패딩(valid padding): 패딩 없이 순수한 입력 배열에서만 합성곱을 하여 특성 맵을 만든 것\n",
    "- 스트라이드(stride): 커널의 이동을 n칸씩 이동하는 것을 의미함(기본값 1이며, 이보다 크게 설정하는 경우는 별로 없음)"
   ]
  },
  {
   "cell_type": "code",
   "execution_count": 2,
   "id": "9275df37",
   "metadata": {},
   "outputs": [
    {
     "data": {
      "text/plain": [
       "<keras.layers.convolutional.conv2d.Conv2D at 0x106bd45e0>"
      ]
     },
     "execution_count": 2,
     "metadata": {},
     "output_type": "execute_result"
    }
   ],
   "source": [
    "from tensorflow import keras\n",
    "keras.layers.Conv2D(10, kernel_size=(3,3), activation=\"relu\", padding=\"same\", strides=1)"
   ]
  },
  {
   "cell_type": "markdown",
   "id": "9cd78e94",
   "metadata": {},
   "source": [
    "### 풀링(pooling)\n",
    ": 합성곱 층에서 만든 특성 맵의 가로세로 크기를 줄이는 역할을 수행 하지만, 특성 맵의 개수를 줄이지는 않음\n",
    "\n",
    "- 풀링도 합성곱처럼 입력 위를 커널이 지나가기만 가중치는 없음\n",
    "- 커널이 지나간 위치의 큰 값을 고르거나 평균을 계산함. 이를 각각 최대 풀링(max pooling), 평균 풀링(average pooling)이라고 함\n",
    "- 풀링은 설정한 사이즈의 크기만큼 이동하는데, 다시 말해 겹치는 영역이 없이 이동함( 2x2 > 2칸씩 이동, 3x3 > 3칸씩 이동)"
   ]
  },
  {
   "cell_type": "code",
   "execution_count": null,
   "id": "5450fd28",
   "metadata": {},
   "outputs": [
    {
     "data": {
      "text/plain": [
       "<keras.layers.pooling.max_pooling2d.MaxPooling2D at 0x106bd48e0>"
      ]
     },
     "execution_count": 3,
     "metadata": {},
     "output_type": "execute_result"
    }
   ],
   "source": [
    "keras.layers.MaxPooling2D(2) # 많은 사례에서 pooling의 크기를 2로 설정"
   ]
  },
  {
   "cell_type": "code",
   "execution_count": 4,
   "id": "373b900e",
   "metadata": {},
   "outputs": [
    {
     "data": {
      "text/plain": [
       "<keras.layers.pooling.max_pooling2d.MaxPooling2D at 0x3572b5be0>"
      ]
     },
     "execution_count": 4,
     "metadata": {},
     "output_type": "execute_result"
    }
   ],
   "source": [
    "keras.layers.MaxPooling2D(2, strides=2, padding=\"valid\")"
   ]
  },
  {
   "cell_type": "code",
   "execution_count": null,
   "id": "82594683",
   "metadata": {},
   "outputs": [],
   "source": []
  }
 ],
 "metadata": {
  "kernelspec": {
   "display_name": "hongong-MlPlusDl",
   "language": "python",
   "name": "python3"
  },
  "language_info": {
   "codemirror_mode": {
    "name": "ipython",
    "version": 3
   },
   "file_extension": ".py",
   "mimetype": "text/x-python",
   "name": "python",
   "nbconvert_exporter": "python",
   "pygments_lexer": "ipython3",
   "version": "3.8.19"
  }
 },
 "nbformat": 4,
 "nbformat_minor": 5
}
